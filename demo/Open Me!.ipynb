{
 "cells": [
  {
   "cell_type": "markdown",
   "metadata": {},
   "source": [
    "## Sideline Demo Notebook\n",
    "\n",
    "Hello! Thank you for helping us evaluate the concept of subplots in computational notebooks (like this one!)  \n",
    "\n",
    "Try clicking the buttons next to the cell below saying `\"sideline - link to subplot 1\"` to hide or highlight the subplot on the right.  "
   ]
  },
  {
   "cell_type": "markdown",
   "metadata": {},
   "source": [
    "sideline - link to subplot 1"
   ]
  },
  {
   "cell_type": "markdown",
   "metadata": {},
   "source": [
    "Following are some tasks you can solve that demonstrate the use cases of subplots:"
   ]
  },
  {
   "cell_type": "code",
   "execution_count": null,
   "metadata": {},
   "outputs": [],
   "source": []
  },
  {
   "cell_type": "markdown",
   "metadata": {
    "tags": [
     "subplot-1"
    ]
   },
   "source": [
    "### I am a subplot!\n",
    "\n",
    "I can contain code for exploration, data cleaning or other tasks that may be necessary or interesting, but I am probably not as important as the narrative this notebook is trying to tell."
   ]
  },
  {
   "cell_type": "markdown",
   "metadata": {
    "tags": [
     "subplot-1"
    ]
   },
   "source": [
    "Cells belonging to a subplot will be executed directly after the referencing cell in the main narrative (the left side) is executed. All remaining subplots (and the cells they contain) are executed AFTER the main narrative.  \n",
    "  \n",
    "If you are done with this introductory subplot, you can collapse it using the toggle button next to referencing cell on the left. Or, you can collapse (\"hide\") all subplots and show a \"normal\" notebook layout with the 👁️ button this extension added in the toolbar above."
   ]
  }
 ],
 "metadata": {
  "celltoolbar": "Tags",
  "kernelspec": {
   "display_name": "Python 3",
   "language": "python",
   "name": "python3"
  },
  "language_info": {
   "codemirror_mode": {
    "name": "ipython",
    "version": 3
   },
   "file_extension": ".py",
   "mimetype": "text/x-python",
   "name": "python",
   "nbconvert_exporter": "python",
   "pygments_lexer": "ipython3",
   "version": "3.8.5"
  }
 },
 "nbformat": 4,
 "nbformat_minor": 4
}
